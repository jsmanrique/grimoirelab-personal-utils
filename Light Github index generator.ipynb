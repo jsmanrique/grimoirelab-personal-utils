{
 "cells": [
  {
   "cell_type": "code",
   "execution_count": 1,
   "metadata": {
    "collapsed": false
   },
   "outputs": [],
   "source": [
    "import utils\n",
    "#utils.logging.basicConfig(level=utils.logging.INFO)\n",
    "settings = utils.read_config_file('settings.yml')\n",
    "es = utils.establish_connection(settings['es_host'])"
   ]
  },
  {
   "cell_type": "code",
   "execution_count": 2,
   "metadata": {
    "collapsed": true
   },
   "outputs": [],
   "source": [
    "MAPPING_GIT = {\n",
    "    \"mappings\": {\n",
    "        \"item\": {\n",
    "            \"properties\": {\n",
    "                \"date\": {\n",
    "                    \"type\": \"date\",\n",
    "                    \"format\" : \"E MMM d HH:mm:ss yyyy Z\",\n",
    "                    \"locale\" : \"US\"\n",
    "                },\n",
    "                \"commit_id\": {\"type\": \"keyword\"},\n",
    "                \"contributor_name\": {\"type\": \"keyword\"},\n",
    "                \"contributor_email_domain\": {\"type\": \"keyword\"},\n",
    "                \"file\": {\"type\": \"keyword\"},\n",
    "                \"lines_added\": {\"type\": \"integer\"},\n",
    "                \"lines_removed\": {\"type\": \"integer\"},\n",
    "                \"github_owner\": {\"type\": \"keyword\"},\n",
    "                \"github_repository\": {\"type\": \"keyword\"}\n",
    "            }\n",
    "        }\n",
    "    }\n",
    "}"
   ]
  },
  {
   "cell_type": "code",
   "execution_count": 3,
   "metadata": {
    "collapsed": true
   },
   "outputs": [],
   "source": [
    "from perceval.backends.core.git import Git\n",
    "from perceval.backends.core.github import GitHub"
   ]
  },
  {
   "cell_type": "code",
   "execution_count": 4,
   "metadata": {
    "collapsed": false
   },
   "outputs": [],
   "source": [
    "utils.create_ES_index(es, 'github-git', MAPPING_GIT)"
   ]
  },
  {
   "cell_type": "code",
   "execution_count": null,
   "metadata": {
    "collapsed": false
   },
   "outputs": [
    {
     "name": "stdout",
     "output_type": "stream",
     "text": [
      "{'file': '.gitignore', 'contributor_name': 'Santiago Dueñas', 'lines_added': '10', 'lines_removed': '0', 'commit_id': 'dc78c254e464ff334892e0448a23e4cfbfc637a3', 'github_owner': 'grimoirelab', 'contributor_email_domain': 'bitergia.com', 'date': 'Tue Aug 18 18:08:27 2015 +0200', 'github_repository': 'perceval'}\n",
      "{'file': 'AUTHORS', 'contributor_name': 'Santiago Dueñas', 'lines_added': '1', 'lines_removed': '0', 'commit_id': 'dc78c254e464ff334892e0448a23e4cfbfc637a3', 'github_owner': 'grimoirelab', 'contributor_email_domain': 'bitergia.com', 'date': 'Tue Aug 18 18:08:27 2015 +0200', 'github_repository': 'perceval'}\n",
      "{'file': 'LICENSE', 'contributor_name': 'Santiago Dueñas', 'lines_added': '674', 'lines_removed': '0', 'commit_id': 'dc78c254e464ff334892e0448a23e4cfbfc637a3', 'github_owner': 'grimoirelab', 'contributor_email_domain': 'bitergia.com', 'date': 'Tue Aug 18 18:08:27 2015 +0200', 'github_repository': 'perceval'}\n",
      "{'file': 'tests/__init__.py', 'contributor_name': 'Santiago Dueñas', 'lines_added': '0', 'lines_removed': '0', 'commit_id': '57bc204822832a6c23ac7883e5392f4da6f4ca37', 'github_owner': 'grimoirelab', 'contributor_email_domain': 'bitergia.com', 'date': 'Tue Aug 18 18:11:40 2015 +0200', 'github_repository': 'perceval'}\n",
      "{'file': 'tests/run_tests.py', 'contributor_name': 'Santiago Dueñas', 'lines_added': '31', 'lines_removed': '0', 'commit_id': '57bc204822832a6c23ac7883e5392f4da6f4ca37', 'github_owner': 'grimoirelab', 'contributor_email_domain': 'bitergia.com', 'date': 'Tue Aug 18 18:11:40 2015 +0200', 'github_repository': 'perceval'}\n",
      "{'file': 'bin/perceval', 'contributor_name': 'Santiago Dueñas', 'lines_added': '74', 'lines_removed': '0', 'commit_id': '2355d18310d8e15c8e5d44f688d757df33b0e4be', 'github_owner': 'grimoirelab', 'contributor_email_domain': 'bitergia.com', 'date': 'Tue Aug 18 18:54:45 2015 +0200', 'github_repository': 'perceval'}\n",
      "{'file': 'bin/perceval', 'contributor_name': 'Santiago Dueñas', 'lines_added': '47', 'lines_removed': '1', 'commit_id': '589bc515db1632959f6edcb0c4bc2fe43ee51b74', 'github_owner': 'grimoirelab', 'contributor_email_domain': 'bitergia.com', 'date': 'Thu Aug 20 19:01:05 2015 +0200', 'github_repository': 'perceval'}\n",
      "{'file': 'setup.py', 'contributor_name': 'Santiago Dueñas', 'lines_added': '32', 'lines_removed': '0', 'commit_id': '35bfeb3c4037a31f4f6a885243f213a104772a04', 'github_owner': 'grimoirelab', 'contributor_email_domain': 'bitergia.com', 'date': 'Fri Aug 21 11:17:01 2015 +0200', 'github_repository': 'perceval'}\n",
      "{'file': 'bin/perceval', 'contributor_name': 'Santiago Dueñas', 'lines_added': '5', 'lines_removed': '3', 'commit_id': 'f6238e73f5bba86efd5e5fdd55a84b2b4f7348ec', 'github_owner': 'grimoirelab', 'contributor_email_domain': 'bitergia.com', 'date': 'Fri Aug 21 11:18:21 2015 +0200', 'github_repository': 'perceval'}\n",
      "{'file': 'perceval/__init__.py', 'contributor_name': 'Santiago Dueñas', 'lines_added': '0', 'lines_removed': '0', 'commit_id': 'f6238e73f5bba86efd5e5fdd55a84b2b4f7348ec', 'github_owner': 'grimoirelab', 'contributor_email_domain': 'bitergia.com', 'date': 'Fri Aug 21 11:18:21 2015 +0200', 'github_repository': 'perceval'}\n",
      "{'file': 'perceval/backend.py', 'contributor_name': 'Santiago Dueñas', 'lines_added': '44', 'lines_removed': '0', 'commit_id': 'f6238e73f5bba86efd5e5fdd55a84b2b4f7348ec', 'github_owner': 'grimoirelab', 'contributor_email_domain': 'bitergia.com', 'date': 'Fri Aug 21 11:18:21 2015 +0200', 'github_repository': 'perceval'}\n",
      "{'file': 'tests/test_backend.py', 'contributor_name': 'Santiago Dueñas', 'lines_added': '43', 'lines_removed': '0', 'commit_id': 'f6238e73f5bba86efd5e5fdd55a84b2b4f7348ec', 'github_owner': 'grimoirelab', 'contributor_email_domain': 'bitergia.com', 'date': 'Fri Aug 21 11:18:21 2015 +0200', 'github_repository': 'perceval'}\n",
      "{'file': '.gitignore', 'contributor_name': 'Santiago Dueñas', 'lines_added': '1', 'lines_removed': '1', 'commit_id': '2ff7af1b6e5b202697518c307f4d4d68a5cb1b7b', 'github_owner': 'grimoirelab', 'contributor_email_domain': 'bitergia.com', 'date': 'Fri Aug 21 11:47:00 2015 +0200', 'github_repository': 'perceval'}\n",
      "{'file': 'perceval/errors.py', 'contributor_name': 'Santiago Dueñas', 'lines_added': '36', 'lines_removed': '0', 'commit_id': '4e34582f9cfd8ec64841d5db5333c598a4082632', 'github_owner': 'grimoirelab', 'contributor_email_domain': 'bitergia.com', 'date': 'Fri Aug 21 12:26:51 2015 +0200', 'github_repository': 'perceval'}\n",
      "{'file': 'tests/test_errors.py', 'contributor_name': 'Santiago Dueñas', 'lines_added': '72', 'lines_removed': '0', 'commit_id': '4e34582f9cfd8ec64841d5db5333c598a4082632', 'github_owner': 'grimoirelab', 'contributor_email_domain': 'bitergia.com', 'date': 'Fri Aug 21 12:26:51 2015 +0200', 'github_repository': 'perceval'}\n",
      "{'file': 'perceval/backends/__init__.py', 'contributor_name': 'Santiago Dueñas', 'lines_added': '0', 'lines_removed': '0', 'commit_id': 'b0f6eb81d9b1dc5f77dce9954744016dfbb3cb4a', 'github_owner': 'grimoirelab', 'contributor_email_domain': 'bitergia.com', 'date': 'Tue Nov 17 14:59:25 2015 +0100', 'github_repository': 'perceval'}\n",
      "{'file': 'perceval/backends/bugzilla.py', 'contributor_name': 'Santiago Dueñas', 'lines_added': '136', 'lines_removed': '0', 'commit_id': 'b0f6eb81d9b1dc5f77dce9954744016dfbb3cb4a', 'github_owner': 'grimoirelab', 'contributor_email_domain': 'bitergia.com', 'date': 'Tue Nov 17 14:59:25 2015 +0100', 'github_repository': 'perceval'}\n",
      "{'file': 'tests/data/bugzilla_bug.xml', 'contributor_name': 'Santiago Dueñas', 'lines_added': '91', 'lines_removed': '0', 'commit_id': 'b0f6eb81d9b1dc5f77dce9954744016dfbb3cb4a', 'github_owner': 'grimoirelab', 'contributor_email_domain': 'bitergia.com', 'date': 'Tue Nov 17 14:59:25 2015 +0100', 'github_repository': 'perceval'}\n",
      "{'file': 'tests/data/bugzilla_bug_activity.html', 'contributor_name': 'Santiago Dueñas', 'lines_added': '362', 'lines_removed': '0', 'commit_id': 'b0f6eb81d9b1dc5f77dce9954744016dfbb3cb4a', 'github_owner': 'grimoirelab', 'contributor_email_domain': 'bitergia.com', 'date': 'Tue Nov 17 14:59:25 2015 +0100', 'github_repository': 'perceval'}\n",
      "{'file': 'tests/data/bugzilla_buglist.csv', 'contributor_name': 'Santiago Dueñas', 'lines_added': '6', 'lines_removed': '0', 'commit_id': 'b0f6eb81d9b1dc5f77dce9954744016dfbb3cb4a', 'github_owner': 'grimoirelab', 'contributor_email_domain': 'bitergia.com', 'date': 'Tue Nov 17 14:59:25 2015 +0100', 'github_repository': 'perceval'}\n",
      "{'file': 'tests/data/bugzilla_version.xml', 'contributor_name': 'Santiago Dueñas', 'lines_added': '8', 'lines_removed': '0', 'commit_id': 'b0f6eb81d9b1dc5f77dce9954744016dfbb3cb4a', 'github_owner': 'grimoirelab', 'contributor_email_domain': 'bitergia.com', 'date': 'Tue Nov 17 14:59:25 2015 +0100', 'github_repository': 'perceval'}\n"
     ]
    }
   ],
   "source": [
    "for repo_url in settings['github-repo']:\n",
    "    \n",
    "    repo_owner = repo_url.split('/')[-2]\n",
    "    repo_name = repo_url.split('/')[-1]\n",
    "    repo_git_url = repo_url + '.git'\n",
    "    \n",
    "    git_repo = Git(uri=repo_git_url, gitpath='/tmp/'+repo_name)\n",
    "    \n",
    "    for commit in git_repo.fetch():\n",
    "        \n",
    "        contributor_name = commit['data']['Author'].split('<')[0][:-1]\n",
    "        contributor_email_domain = commit['data']['Author'].split('@')[-1][:-1]\n",
    "        \n",
    "        for file in commit['data']['files']:\n",
    "            if 'added' not in file.keys() or file['added'] == '-': \n",
    "                file['added'] = 0\n",
    "            if 'removed' not in file.keys() or file['removed'] == '-':\n",
    "                file['removed'] = 0\n",
    "            \n",
    "            summary = {\n",
    "                'date': commit['data']['AuthorDate'], \n",
    "                'commit_id': commit['data']['commit'],\n",
    "                'contributor_name': contributor_name, \n",
    "                'contributor_email_domain': contributor_email_domain,\n",
    "                'file': file['file'],\n",
    "                'lines_added': file['added'], \n",
    "                'lines_removed': file['removed'],\n",
    "                'github_owner': repo_owner, 'github_repository': repo_name\n",
    "            }\n",
    "            \n",
    "            print(summary)\n",
    "            \n",
    "            es.index(index='github-git', doc_type='item', body=summary)"
   ]
  },
  {
   "cell_type": "code",
   "execution_count": null,
   "metadata": {
    "collapsed": true
   },
   "outputs": [],
   "source": [
    "MAPPING_GITHUB = {\n",
    "    \"mappings\": {\n",
    "        \"item\": {\n",
    "            \"properties\": {\n",
    "                \"date\": {\n",
    "                    \"type\": \"date\",\n",
    "                    \"format\" : \"dateOptionalTime\"\n",
    "                },\n",
    "                \"contributor_github_username\": {\"type\": \"keyword\"},\n",
    "                \"title\": {\"type\": \"string\"},\n",
    "                \"state\": {\"type\": \"keyword\"},\n",
    "                \"issue_type\": {\"type\": \"keyword\"},\n",
    "                \"url\": {\"type\": \"keyword\"},\n",
    "                \"comments\": {\"type\": \"integer\"},\n",
    "                \"closed_at\": {\n",
    "                    \"type\": \"date\",\n",
    "                    \"format\": \"dateOptionalTime\"\n",
    "                },\n",
    "                \"time_to_solve\": {\"type\": \"integer\"},\n",
    "                \"assignee_github_username\": {\"type\": \"keyword\"},\n",
    "                \"github_owner\": {\"type\": \"keyword\"},\n",
    "                \"github_repository\": {\"type\": \"keyword\"}\n",
    "            }\n",
    "        }\n",
    "    }\n",
    "}"
   ]
  },
  {
   "cell_type": "code",
   "execution_count": null,
   "metadata": {
    "collapsed": false
   },
   "outputs": [],
   "source": [
    "utils.create_ES_index(es, 'github-issues', MAPPING_GIT)"
   ]
  },
  {
   "cell_type": "code",
   "execution_count": null,
   "metadata": {
    "collapsed": false
   },
   "outputs": [],
   "source": [
    "import datetime as datetime\n",
    "\n",
    "for repo_url in settings['github-repo']:\n",
    "    \n",
    "    repo_owner = repo_url.split('/')[-2]\n",
    "    repo_name = repo_url.split('/')[-1]\n",
    "    repo_git_url = repo_url + '.git'\n",
    "    \n",
    "    github_repo = GitHub(owner=repo_owner, repository=repo_name, api_token=settings['github_token'])\n",
    "    \n",
    "    for issue in github_repo.fetch():\n",
    "        created_at = issue['data']['created_at']\n",
    "        if issue['data']['state'] == 'closed':\n",
    "            closed_at = issue['data']['closed_at']\n",
    "            creation_date = datetime.datetime.strptime(created_at, \"%Y-%m-%dT%H:%M:%SZ\")\n",
    "            closing_date = datetime.datetime.strptime(closed_at, \"%Y-%m-%dT%H:%M:%SZ\")\n",
    "            delta_time = (closing_date - creation_date).seconds\n",
    "        else:\n",
    "            delta_time = None\n",
    "        summary = {\n",
    "            'date': created_at, \n",
    "            'contributor_github_username': issue['data']['user_data']['login'],\n",
    "            'title': issue['data']['title'],\n",
    "            'state': issue['data']['state'],\n",
    "            'url': issue['data']['html_url'],\n",
    "            'comments': issue['data']['comments'],\n",
    "            'closed_at': issue['data']['closed_at'],\n",
    "            'time_to_solve': delta_time,\n",
    "            'github_owner': repo_owner,\n",
    "            'github_repository': repo_name\n",
    "        }\n",
    "        if issue['data']['assignee'] != None:\n",
    "            summary['assignee_github_username'] = issue['data']['assignee']['login']\n",
    "        else:\n",
    "            summary['assignee_github_username'] = None\n",
    "        if 'pull_request' in issue['data'].keys():\n",
    "            summary['issue_type'] = 'pull-request'\n",
    "        else:\n",
    "            summary['issue_type'] = 'issue'\n",
    "        es.index(index='github-issues', doc_type='item', body=summary)"
   ]
  }
 ],
 "metadata": {
  "kernelspec": {
   "display_name": "Python 3",
   "language": "python",
   "name": "python3"
  },
  "language_info": {
   "codemirror_mode": {
    "name": "ipython",
    "version": 3
   },
   "file_extension": ".py",
   "mimetype": "text/x-python",
   "name": "python",
   "nbconvert_exporter": "python",
   "pygments_lexer": "ipython3",
   "version": "3.5.3"
  }
 },
 "nbformat": 4,
 "nbformat_minor": 2
}
