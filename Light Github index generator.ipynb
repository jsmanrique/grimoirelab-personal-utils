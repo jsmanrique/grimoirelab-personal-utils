{
 "cells": [
  {
   "cell_type": "code",
   "execution_count": 1,
   "metadata": {
    "collapsed": false
   },
   "outputs": [
    {
     "name": "stdout",
     "output_type": "stream",
     "text": [
      "Connection established\n"
     ]
    }
   ],
   "source": [
    "import utils\n",
    "settings = utils.read_config_file('settings.yml')\n",
    "es = utils.establish_connection(settings['es_host'])"
   ]
  },
  {
   "cell_type": "code",
   "execution_count": 69,
   "metadata": {
    "collapsed": true
   },
   "outputs": [],
   "source": [
    "MAPPING_GIT = {\n",
    "    \"mappings\": {\n",
    "        \"item\": {\n",
    "            \"properties\": {\n",
    "                \"date\": {\n",
    "                    \"type\": \"date\",\n",
    "                    \"format\" : \"E MMM d HH:mm:ss yyyy Z\",\n",
    "                    \"locale\" : \"US\"\n",
    "                },\n",
    "                \"commit_id\": {\"type\": \"keyword\"},\n",
    "                \"contributor_name\": {\"type\": \"keyword\"},\n",
    "                \"contributor_email_domain\": {\"type\": \"keyword\"},\n",
    "                \"file\": {\"type\": \"keyword\"},\n",
    "                \"lines_added\": {\"type\": \"integer\"},\n",
    "                \"lines_removed\": {\"type\": \"integer\"},\n",
    "                \"github_owner\": {\"type\": \"keyword\"},\n",
    "                \"github_repository\": {\"type\": \"keyword\"}\n",
    "            }\n",
    "        }\n",
    "    }\n",
    "}"
   ]
  },
  {
   "cell_type": "code",
   "execution_count": 70,
   "metadata": {
    "collapsed": true
   },
   "outputs": [],
   "source": [
    "from perceval.backends.core.git import Git\n",
    "from perceval.backends.core.github import GitHub"
   ]
  },
  {
   "cell_type": "code",
   "execution_count": 71,
   "metadata": {
    "collapsed": false
   },
   "outputs": [
    {
     "data": {
      "text/plain": [
       "{'acknowledged': True, 'shards_acknowledged': True}"
      ]
     },
     "execution_count": 71,
     "metadata": {},
     "output_type": "execute_result"
    }
   ],
   "source": [
    "es.indices.delete('github-git', ignore=[400, 404])\n",
    "es.indices.create('github-git', body=MAPPING_GIT)"
   ]
  },
  {
   "cell_type": "code",
   "execution_count": 72,
   "metadata": {
    "collapsed": false
   },
   "outputs": [],
   "source": [
    "for repo_url in settings['github-repo']:\n",
    "    \n",
    "    repo_owner = repo_url.split('/')[-2]\n",
    "    repo_name = repo_url.split('/')[-1]\n",
    "    repo_git_url = repo_url + '.git'\n",
    "    \n",
    "    git_repo = Git(uri=repo_git_url, gitpath='/tmp/'+repo_name)\n",
    "    \n",
    "    for commit in git_repo.fetch():\n",
    "        \n",
    "        contributor_name = commit['data']['Author'].split('<')[0][:-1]\n",
    "        contributor_email_domain = commit['data']['Author'].split('@')[-1][:-1]\n",
    "        \n",
    "        for file in commit['data']['files']:\n",
    "            if 'added' not in file.keys() or file['added'] == '-': \n",
    "                file['added'] = 0\n",
    "            if 'removed' not in file.keys() or file['removed'] == '-':\n",
    "                file['removed'] = 0\n",
    "            \n",
    "            summary = {\n",
    "                'date': commit['data']['AuthorDate'], \n",
    "                'commit_id': commit['data']['commit'],\n",
    "                'contributor_name': contributor_name, \n",
    "                'contributor_email_domain': contributor_email_domain,\n",
    "                'file': file['file'],\n",
    "                'lines_added': file['added'], \n",
    "                'lines_removed': file['removed'],\n",
    "                'github_owner': repo_owner, 'github_repository': repo_name\n",
    "            }\n",
    "            \n",
    "            es.index(index='github-git', doc_type='item', body=summary)"
   ]
  },
  {
   "cell_type": "code",
   "execution_count": 81,
   "metadata": {
    "collapsed": true
   },
   "outputs": [],
   "source": [
    "MAPPING_GITHUB = {\n",
    "    \"mappings\": {\n",
    "        \"item\": {\n",
    "            \"properties\": {\n",
    "                \"date\": {\n",
    "                    \"type\": \"date\",\n",
    "                    \"format\" : \"dateOptionalTime\"\n",
    "                },\n",
    "                \"contributor_github_username\": {\"type\": \"keyword\"},\n",
    "                \"title\": {\"type\": \"string\"},\n",
    "                \"state\": {\"type\": \"keyword\"},\n",
    "                \"issue_type\": {\"type\": \"keyword\"},\n",
    "                \"url\": {\"type\": \"keyword\"},\n",
    "                \"comments\": {\"type\": \"integer\"},\n",
    "                \"closed_at\": {\n",
    "                    \"type\": \"date\",\n",
    "                    \"format\": \"dateOptionalTime\"\n",
    "                },\n",
    "                \"time_to_solve\": {\"type\": \"integer\"},\n",
    "                \"assignee_github_username\": {\"type\": \"keyword\"},\n",
    "                \"github_owner\": {\"type\": \"keyword\"},\n",
    "                \"github_repository\": {\"type\": \"keyword\"}\n",
    "            }\n",
    "        }\n",
    "    }\n",
    "}"
   ]
  },
  {
   "cell_type": "code",
   "execution_count": 82,
   "metadata": {
    "collapsed": false
   },
   "outputs": [
    {
     "data": {
      "text/plain": [
       "{'acknowledged': True, 'shards_acknowledged': True}"
      ]
     },
     "execution_count": 82,
     "metadata": {},
     "output_type": "execute_result"
    }
   ],
   "source": [
    "es.indices.delete('github-issues', ignore=[400, 404])\n",
    "es.indices.create('github-issues', body=MAPPING_GITHUB)"
   ]
  },
  {
   "cell_type": "code",
   "execution_count": 83,
   "metadata": {
    "collapsed": false
   },
   "outputs": [],
   "source": [
    "import datetime as datetime\n",
    "\n",
    "for repo_url in settings['github-repo']:\n",
    "    \n",
    "    repo_owner = repo_url.split('/')[-2]\n",
    "    repo_name = repo_url.split('/')[-1]\n",
    "    repo_git_url = repo_url + '.git'\n",
    "    \n",
    "    github_repo = GitHub(owner=repo_owner, repository=repo_name, api_token=settings['github_token'])\n",
    "    \n",
    "    for issue in github_repo.fetch():\n",
    "        created_at = issue['data']['created_at']\n",
    "        if issue['data']['state'] == 'closed':\n",
    "            closed_at = issue['data']['closed_at']\n",
    "            creation_date = datetime.datetime.strptime(created_at, \"%Y-%m-%dT%H:%M:%SZ\")\n",
    "            closing_date = datetime.datetime.strptime(closed_at, \"%Y-%m-%dT%H:%M:%SZ\")\n",
    "            delta_time = (closing_date - creation_date).seconds\n",
    "        else:\n",
    "            delta_time = None\n",
    "        summary = {\n",
    "            'date': created_at, \n",
    "            'contributor_github_username': issue['data']['user_data']['login'],\n",
    "            'title': issue['data']['title'],\n",
    "            'state': issue['data']['state'],\n",
    "            'url': issue['data']['html_url'],\n",
    "            'url': issue['data']['comments'],\n",
    "            'closed_at': issue['data']['closed_at'],\n",
    "            'time_to_solve': delta_time,\n",
    "            'github_owner': repo_owner,\n",
    "            'github_repository': repo_name\n",
    "        }\n",
    "        if issue['data']['assignee'] != None:\n",
    "            summary['assignee_github_username'] = issue['data']['assignee']['login']\n",
    "        else:\n",
    "            summary['assignee_github_username'] = None\n",
    "        if 'pull_request' in issue['data'].keys():\n",
    "            summary['issue_type'] = 'pull-request'\n",
    "        else:\n",
    "            summary['issue_type'] = 'issue'\n",
    "        es.index(index='github-issues', doc_type='item', body=summary)"
   ]
  }
 ],
 "metadata": {
  "kernelspec": {
   "display_name": "Python 3",
   "language": "python",
   "name": "python3"
  },
  "language_info": {
   "codemirror_mode": {
    "name": "ipython",
    "version": 3
   },
   "file_extension": ".py",
   "mimetype": "text/x-python",
   "name": "python",
   "nbconvert_exporter": "python",
   "pygments_lexer": "ipython3",
   "version": "3.5.3"
  }
 },
 "nbformat": 4,
 "nbformat_minor": 2
}
