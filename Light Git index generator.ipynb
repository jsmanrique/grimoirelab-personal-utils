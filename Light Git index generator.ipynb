{
 "cells": [
  {
   "cell_type": "code",
   "execution_count": 1,
   "metadata": {
    "collapsed": true
   },
   "outputs": [],
   "source": [
    "import utils"
   ]
  },
  {
   "cell_type": "code",
   "execution_count": 2,
   "metadata": {
    "collapsed": true
   },
   "outputs": [],
   "source": [
    "from perceval.backends.core.git import Git"
   ]
  },
  {
   "cell_type": "code",
   "execution_count": 3,
   "metadata": {
    "collapsed": false
   },
   "outputs": [
    {
     "name": "stdout",
     "output_type": "stream",
     "text": [
      "Connection established\n"
     ]
    }
   ],
   "source": [
    "settings = utils.read_config_file('settings.yml')\n",
    "es = utils.establish_connection(settings['es_host'])"
   ]
  },
  {
   "cell_type": "code",
   "execution_count": 40,
   "metadata": {
    "collapsed": true
   },
   "outputs": [],
   "source": [
    "MAPPING_GIT = {\n",
    "    \"mappings\": {\n",
    "        \"item\": {\n",
    "            \"properties\": {\n",
    "                \"date\": {\n",
    "                    \"type\": \"date\",\n",
    "                    \"format\" : \"E MMM d HH:mm:ss yyyy Z\",\n",
    "                    \"locale\" : \"US\"\n",
    "                },\n",
    "                \"commit\": {\"type\": \"keyword\"},\n",
    "                \"author\": {\"type\": \"keyword\"},\n",
    "                \"domain\": {\"type\": \"keyword\"},\n",
    "                \"file\": {\"type\": \"keyword\"},\n",
    "                \"added\": {\"type\": \"integer\"},\n",
    "                \"removed\": {\"type\": \"integer\"},\n",
    "                \"repository\": {\"type\": \"keyword\"}\n",
    "            }\n",
    "        }\n",
    "    }\n",
    "}"
   ]
  },
  {
   "cell_type": "code",
   "execution_count": 41,
   "metadata": {
    "collapsed": false
   },
   "outputs": [
    {
     "data": {
      "text/plain": [
       "{'acknowledged': True, 'shards_acknowledged': True}"
      ]
     },
     "execution_count": 41,
     "metadata": {},
     "output_type": "execute_result"
    }
   ],
   "source": [
    "es.indices.delete('git', ignore=[400, 404])\n",
    "es.indices.create('git', body=MAPPING_GIT)"
   ]
  },
  {
   "cell_type": "code",
   "execution_count": 42,
   "metadata": {
    "collapsed": false
   },
   "outputs": [],
   "source": [
    "for repo_url in settings['git']:\n",
    "    \n",
    "    repo_name = repo_url.split('/')[-1]\n",
    "    repo = Git(uri=repo_url, gitpath='/tmp/'+repo_name)\n",
    "    \n",
    "    for commit in repo.fetch():\n",
    "        \n",
    "        author_name = commit['data']['Author'].split('<')[0][:-1]\n",
    "        author_domain = commit['data']['Author'].split('@')[-1][:-1]\n",
    "        \n",
    "        for file in commit['data']['files']:\n",
    "            if 'added' not in file.keys() or file['added'] == '-': \n",
    "                file['added'] = 0\n",
    "            if 'removed' not in file.keys() or file['removed'] == '-':\n",
    "                file['removed'] = 0\n",
    "            \n",
    "            summary = {\n",
    "                'date': commit['data']['AuthorDate'],\n",
    "                'commit': commit['data']['commit'],\n",
    "                'author': author_name,\n",
    "                'domain': author_domain,\n",
    "                'file': file['file'],\n",
    "                'added': file['added'],\n",
    "                'removed': file['removed'],\n",
    "                'repository': repo_name\n",
    "            }\n",
    "            \n",
    "            es.index(index='git', doc_type='commits', body=summary)"
   ]
  }
 ],
 "metadata": {
  "kernelspec": {
   "display_name": "Python 3",
   "language": "python",
   "name": "python3"
  },
  "language_info": {
   "codemirror_mode": {
    "name": "ipython",
    "version": 3
   },
   "file_extension": ".py",
   "mimetype": "text/x-python",
   "name": "python",
   "nbconvert_exporter": "python",
   "pygments_lexer": "ipython3",
   "version": "3.5.3"
  }
 },
 "nbformat": 4,
 "nbformat_minor": 2
}
