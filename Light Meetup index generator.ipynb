{
 "cells": [
  {
   "cell_type": "code",
   "execution_count": 1,
   "metadata": {
    "collapsed": true
   },
   "outputs": [],
   "source": [
    "import utils"
   ]
  },
  {
   "cell_type": "code",
   "execution_count": 5,
   "metadata": {
    "collapsed": false
   },
   "outputs": [],
   "source": [
    "from perceval.backends.core.meetup import Meetup"
   ]
  },
  {
   "cell_type": "code",
   "execution_count": 12,
   "metadata": {
    "collapsed": false
   },
   "outputs": [
    {
     "name": "stdout",
     "output_type": "stream",
     "text": [
      "Connection established\n"
     ]
    }
   ],
   "source": [
    "settings = utils.read_config_file('settings.yml')\n",
    "es = utils.establish_connection(settings['es_host'])"
   ]
  },
  {
   "cell_type": "code",
   "execution_count": 36,
   "metadata": {
    "collapsed": false
   },
   "outputs": [
    {
     "data": {
      "text/plain": [
       "{'acknowledged': True, 'shards_acknowledged': True}"
      ]
     },
     "execution_count": 36,
     "metadata": {},
     "output_type": "execute_result"
    }
   ],
   "source": [
    "MAPPING_MEETUP = {\n",
    "    \"mappings\": {\n",
    "        \"item\": {\n",
    "            \"properties\": {\n",
    "                \"date\": {\"type\": \"date\"},\n",
    "                \"member_id\": {\"type\": \"keyword\"},\n",
    "                \"member_name\": {\"type\": \"keyword\"},\n",
    "                \"rsvp_response\": {\"type\": \"keyword\"},\n",
    "                \"meetup_name\": {\"type\": \"keyword\"},\n",
    "                \"meetup_id\": {\"type\": \"keyword\"},\n",
    "                \"meetup_venue\": {\"type\": \"keyword\"},\n",
    "                \"group\": {\"type\": \"keyword\"}\n",
    "            }\n",
    "        }\n",
    "    }\n",
    "}"
   ]
  },
  {
   "cell_type": "code",
   "execution_count": null,
   "metadata": {
    "collapsed": true
   },
   "outputs": [],
   "source": [
    "es.indices.delete('meetup', ignore=[400, 404])\n",
    "es.indices.create('meetup', body=MAPPING_MEETUP)"
   ]
  },
  {
   "cell_type": "code",
   "execution_count": 32,
   "metadata": {
    "collapsed": false
   },
   "outputs": [],
   "source": [
    "for group_name in settings['meetup']:\n",
    "    group = Meetup(group=group_name, sleep_for_rate=True, api_token=None)\n",
    "    items = []\n",
    "    for item in group.fetch():\n",
    "        items.append(item)"
   ]
  },
  {
   "cell_type": "code",
   "execution_count": 37,
   "metadata": {
    "collapsed": false
   },
   "outputs": [],
   "source": [
    "for item in items:\n",
    "    for rsvp in item['data']['rsvps']:\n",
    "        summary = {'date': rsvp['created'], 'member_id': rsvp['member']['id'], \\\n",
    "                   'member_name': rsvp['member']['name'], 'rvsp_response': rsvp['response'], \\\n",
    "                   'meetup_name': item['data']['name'], 'meetup_id': item['data']['id'], \\\n",
    "                   'meetup_venue\":item['data']['venue']['name'], group': item['data']['group']['name']}\n",
    "        es.index(index='meetups', doc_type='rvsp', body=summary)"
   ]
  }
 ],
 "metadata": {
  "kernelspec": {
   "display_name": "Python 3",
   "language": "python",
   "name": "python3"
  },
  "language_info": {
   "codemirror_mode": {
    "name": "ipython",
    "version": 3
   },
   "file_extension": ".py",
   "mimetype": "text/x-python",
   "name": "python",
   "nbconvert_exporter": "python",
   "pygments_lexer": "ipython3",
   "version": "3.5.3"
  }
 },
 "nbformat": 4,
 "nbformat_minor": 2
}
