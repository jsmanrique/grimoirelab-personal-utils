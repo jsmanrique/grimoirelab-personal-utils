{
 "cells": [
  {
   "cell_type": "markdown",
   "metadata": {},
   "source": [
    "# Meetup index generator\n",
    "\n",
    "This notebook generates an Elasticsearch index with information about the *rvsps* for a set of Meetup groups defined in the `settings.yml` file. You'll need a [Meetup API token](https://secure.meetup.com/meetup_api/key/)"
   ]
  },
  {
   "cell_type": "code",
   "execution_count": null,
   "metadata": {
    "collapsed": false
   },
   "outputs": [],
   "source": [
    "import utils\n",
    "\n",
    "#utils.logging.basicConfig(level=utils.logging.INFO)"
   ]
  },
  {
   "cell_type": "code",
   "execution_count": null,
   "metadata": {
    "collapsed": false
   },
   "outputs": [],
   "source": [
    "from perceval.backends.core.meetup import Meetup"
   ]
  },
  {
   "cell_type": "code",
   "execution_count": null,
   "metadata": {
    "collapsed": false
   },
   "outputs": [],
   "source": [
    "#Reading settings file and establishing connection with an Elasticsearch\n",
    "\n",
    "settings = utils.read_config_file('settings.yml')\n",
    "es = utils.establish_connection(settings['es_host'])"
   ]
  },
  {
   "cell_type": "code",
   "execution_count": null,
   "metadata": {
    "collapsed": false
   },
   "outputs": [],
   "source": [
    "# ES mapping for a basic Meetup index\n",
    "\n",
    "MAPPING_MEETUP = {\n",
    "    \"mappings\": {\n",
    "        \"item\": {\n",
    "            \"properties\": {\n",
    "                \"date\": {\"type\": \"date\"},\n",
    "                \"member_id\": {\"type\": \"keyword\"},\n",
    "                \"member_name\": {\"type\": \"keyword\"},\n",
    "                \"rsvp_response\": {\"type\": \"keyword\"},\n",
    "                \"meetup_name\": {\"type\": \"keyword\"},\n",
    "                \"meetup_id\": {\"type\": \"keyword\"},\n",
    "                \"meetup_venue\": {\"type\": \"keyword\"},\n",
    "                \"group\": {\"type\": \"keyword\"}\n",
    "            }\n",
    "        }\n",
    "    }\n",
    "}"
   ]
  },
  {
   "cell_type": "markdown",
   "metadata": {},
   "source": [
    "**WARNING**: We remove/delete any existing `meetup` index. So if you wanna keep an existing one, just change the name for the new one."
   ]
  },
  {
   "cell_type": "code",
   "execution_count": null,
   "metadata": {
    "collapsed": false
   },
   "outputs": [],
   "source": [
    "# Creaiting meetup index in the Elasticsearch using defined mapping\n",
    "\n",
    "utils.create_ES_index(es, 'meetup', MAPPING_MEETUP)"
   ]
  },
  {
   "cell_type": "code",
   "execution_count": null,
   "metadata": {
    "collapsed": false
   },
   "outputs": [],
   "source": [
    "# For each Meetup groud defined in the settings file...\n",
    "\n",
    "for group_name in settings['meetup']:\n",
    "    group = Meetup(group=group_name, sleep_for_rate=True, api_token=settings['meetup_api_key'])\n",
    "    \n",
    "    for item in group.fetch():\n",
    "        \"\"\"\" Getting items from Meetup using Perceval\n",
    "        \n",
    "        For Meetup, Perceval items are Meetup meetings\n",
    "        \"\"\"\"\n",
    "        \n",
    "        for rsvp in item['data']['rsvps']:\n",
    "            \"\"\"\" For each RSVP in the Meetup meeting\n",
    "            \n",
    "            Get summary information\n",
    "            \"\"\"\"\n",
    "            \n",
    "            summary = {\n",
    "                'date': rsvp['created'],\n",
    "                'member_id': rsvp['member']['id'],\n",
    "                'member_name': rsvp['member']['name'],\n",
    "                'rvsp_response': rsvp['response'],\n",
    "                'meetup_name': item['data']['name'],\n",
    "                'meetup_id': item['data']['id'],\n",
    "                'group': item['data']['group']['name']\n",
    "            }\n",
    "            if 'venue' in item['data'].keys():\n",
    "                summary['meetup_venue'] = item['data']['venue']['name']\n",
    "            \n",
    "            # Store RSVP information in the Elasticsearch index created\n",
    "            \n",
    "            es.index(index='meetups', doc_type='item', body=summary)"
   ]
  }
 ],
 "metadata": {
  "kernelspec": {
   "display_name": "Python 3",
   "language": "python",
   "name": "python3"
  },
  "language_info": {
   "codemirror_mode": {
    "name": "ipython",
    "version": 3
   },
   "file_extension": ".py",
   "mimetype": "text/x-python",
   "name": "python",
   "nbconvert_exporter": "python",
   "pygments_lexer": "ipython3",
   "version": "3.5.3"
  }
 },
 "nbformat": 4,
 "nbformat_minor": 2
}
